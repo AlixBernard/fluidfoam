{
  "cells": [
    {
      "cell_type": "code",
      "execution_count": null,
      "metadata": {
        "collapsed": false
      },
      "outputs": [],
      "source": [
        "%matplotlib inline"
      ]
    },
    {
      "cell_type": "markdown",
      "metadata": {},
      "source": [
        "\n# Time series of OpenFoam scalar field\n\nThis example reads and plots a time series of an OpenFoam scalar field\n"
      ]
    },
    {
      "cell_type": "markdown",
      "metadata": {},
      "source": [
        "## Gets the time directories\n\n<div class=\"alert alert-info\"><h4>Note</h4><p>Tries if directory is a number and adds it in the time array</p></div>\n\n"
      ]
    },
    {
      "cell_type": "code",
      "execution_count": null,
      "metadata": {
        "collapsed": false
      },
      "outputs": [],
      "source": [
        "import os\nimport numpy as np\n\nsol = '../output_samples/box/'\ndir_list = os.listdir(sol)\ntime_list = []\n\nfor directory in dir_list:\n    try:\n        float(directory)\n        time_list.append(directory)\n    except:\n        pass\ntime_list.sort(key=float)\ntime_list=np.array(time_list)"
      ]
    },
    {
      "cell_type": "markdown",
      "metadata": {},
      "source": [
        "## Reads a scalar value at a given position for different times\n\n<div class=\"alert alert-info\"><h4>Note</h4><p>It reads the scalar field p at position 20 and stores it in the\n          numpy array time_series</p></div>\n\n"
      ]
    },
    {
      "cell_type": "code",
      "execution_count": null,
      "metadata": {
        "collapsed": false
      },
      "outputs": [],
      "source": [
        "# import readvector function from fluidfoam package\nfrom fluidfoam import readscalar\n\nsol = '../output_samples/box/'\n\ntime_series = np.empty(0)\n\nfor timename in time_list:\n    p = readscalar(sol, timename, 'p')\n    time_series = np.append(time_series, p[20])"
      ]
    },
    {
      "cell_type": "markdown",
      "metadata": {},
      "source": [
        "## Now plots the time series\n\n\n"
      ]
    },
    {
      "cell_type": "code",
      "execution_count": null,
      "metadata": {
        "collapsed": false
      },
      "outputs": [],
      "source": [
        "import matplotlib.pyplot as plt\n\nplt.figure()\n\n# Converts strings to float for plot\ntime_list = [float(i) for i in time_list]\nplt.plot(time_list, time_series)\n\n# Setting axis labels\nplt.xlabel('t (s)')\nplt.ylabel('p (Pa)')\n\n# add grid\nplt.grid()"
      ]
    }
  ],
  "metadata": {
    "kernelspec": {
      "display_name": "Python 3",
      "language": "python",
      "name": "python3"
    },
    "language_info": {
      "codemirror_mode": {
        "name": "ipython",
        "version": 3
      },
      "file_extension": ".py",
      "mimetype": "text/x-python",
      "name": "python",
      "nbconvert_exporter": "python",
      "pygments_lexer": "ipython3",
      "version": "3.7.4"
    }
  },
  "nbformat": 4,
  "nbformat_minor": 0
}