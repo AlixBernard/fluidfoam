{
  "cells": [
    {
      "cell_type": "code",
      "execution_count": null,
      "metadata": {
        "collapsed": false
      },
      "outputs": [],
      "source": [
        "%matplotlib inline"
      ]
    },
    {
      "cell_type": "markdown",
      "metadata": {},
      "source": [
        "\n# Spatially averaged profile\n\nThis example reads and plots a spatially averaged profile of the first\ncomponent of an OpenFoam vector field from a structured mesh\n"
      ]
    },
    {
      "cell_type": "markdown",
      "metadata": {},
      "source": [
        "## First reads the mesh\n\n<div class=\"alert alert-info\"><h4>Note</h4><p>It reads the mesh coordinates for a structured mesh (argument True)\n          and stores them in variables x, y and z</p></div>\n\n"
      ]
    },
    {
      "cell_type": "code",
      "execution_count": null,
      "metadata": {
        "collapsed": false
      },
      "outputs": [],
      "source": [
        "# import readmesh function from fluidfoam package\nfrom fluidfoam import readmesh\n\nsol = '../../output_samples/box/'\n\nx, y, z = readmesh(sol, structured=True)"
      ]
    },
    {
      "cell_type": "markdown",
      "metadata": {},
      "source": [
        "## Reads a vector field\n\n<div class=\"alert alert-info\"><h4>Note</h4><p>It reads a vector field from a structured mesh\n          and stores it in vel variable</p></div>\n\n"
      ]
    },
    {
      "cell_type": "code",
      "execution_count": null,
      "metadata": {
        "collapsed": false
      },
      "outputs": [],
      "source": [
        "# import readvector function from fluidfoam package\nfrom fluidfoam import readvector\n\ntimename = '0'\nvel = readvector(sol, timename, 'U', structured=True)"
      ]
    },
    {
      "cell_type": "markdown",
      "metadata": {},
      "source": [
        "## Averaging along x and z axis (1 and 3)\n\n\n"
      ]
    },
    {
      "cell_type": "code",
      "execution_count": null,
      "metadata": {
        "collapsed": false
      },
      "outputs": [],
      "source": [
        "import numpy as np\n\nvel_averaged = np.mean(np.mean(vel, 3), 1)"
      ]
    },
    {
      "cell_type": "markdown",
      "metadata": {},
      "source": [
        "## Now plots the profile of the averaged first velocity component\n\n\n"
      ]
    },
    {
      "cell_type": "code",
      "execution_count": null,
      "metadata": {
        "collapsed": false
      },
      "outputs": [],
      "source": [
        "import matplotlib.pyplot as plt\n\nplt.figure()\nplt.plot(vel_averaged[0], y[0, :, 0])\n\n#Setting axis labels\nplt.xlabel('U (m/s)')\nplt.ylabel('y (m)')\n\n# add grid\nplt.grid()"
      ]
    }
  ],
  "metadata": {
    "kernelspec": {
      "display_name": "Python 3",
      "language": "python",
      "name": "python3"
    },
    "language_info": {
      "codemirror_mode": {
        "name": "ipython",
        "version": 3
      },
      "file_extension": ".py",
      "mimetype": "text/x-python",
      "name": "python",
      "nbconvert_exporter": "python",
      "pygments_lexer": "ipython3",
      "version": "3.7.4"
    }
  },
  "nbformat": 4,
  "nbformat_minor": 0
}