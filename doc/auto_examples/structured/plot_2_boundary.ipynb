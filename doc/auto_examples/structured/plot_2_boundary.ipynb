{
  "cells": [
    {
      "cell_type": "code",
      "execution_count": null,
      "metadata": {
        "collapsed": false
      },
      "outputs": [],
      "source": [
        "%matplotlib inline"
      ]
    },
    {
      "cell_type": "markdown",
      "metadata": {},
      "source": [
        "\n# Contour and scatter from a boundary/patch\n\nThis example reads and plots the first component of an OpenFoam\nvector field from a boundary (patch) of a structured mesh\n"
      ]
    },
    {
      "cell_type": "markdown",
      "metadata": {},
      "source": [
        "## First reads the mesh and print the shape/size of the mesh boundary\n\n<div class=\"alert alert-info\"><h4>Note</h4><p>It reads the mesh coordinates of a boundary for a structured mesh\n          and stores them in variables x, y and z</p></div>\n\n"
      ]
    },
    {
      "cell_type": "code",
      "execution_count": null,
      "metadata": {
        "collapsed": false
      },
      "outputs": [],
      "source": [
        "# import readmesh function from fluidfoam package\nfrom fluidfoam import readmesh\n\n\nsol = \"../../output_samples/box/\"\n\nx, y, z = readmesh(path=sol, structured=True, boundary=\"topWall\")\n\nnface = x.shape\nprint(\"Boundary shape = \", nface)"
      ]
    },
    {
      "cell_type": "markdown",
      "metadata": {},
      "source": [
        "## Reads a vector field\n\n<div class=\"alert alert-info\"><h4>Note</h4><p>It reads a vector field of a boundary from a structured mesh\n          and stores it in vel variable</p></div>\n\n"
      ]
    },
    {
      "cell_type": "code",
      "execution_count": null,
      "metadata": {
        "collapsed": false
      },
      "outputs": [],
      "source": [
        "# import readvector function from fluidfoam package\nfrom fluidfoam import readvector\n\ntimename = \"0\"\nvel = readvector(sol, timename, \"U\", structured=True, boundary=\"topWall\")"
      ]
    },
    {
      "cell_type": "markdown",
      "metadata": {},
      "source": [
        "## Now plots the contour of the first velocity component on the topWall boundary\n\n<div class=\"alert alert-info\"><h4>Note</h4><p>Here the topWall boundary is in (x, z) plane</p></div>\n\n"
      ]
    },
    {
      "cell_type": "code",
      "execution_count": null,
      "metadata": {
        "collapsed": false
      },
      "outputs": [],
      "source": [
        "import matplotlib.pyplot as plt\nimport numpy as np\n\nplt.figure()\n\nlevels = np.arange(0, np.max(vel[0]), 0.001)\nax = plt.contourf(x[:, 0, :], z[:, 0, :], vel[0, :, 0, :], levels=levels)\ncbar = plt.colorbar(ax)\ncbar.set_label(\"Ux (m/s)\")\n\n# Setting axis labels\nplt.xlabel(\"x (m)\")\nplt.ylabel(\"z (m)\")"
      ]
    },
    {
      "cell_type": "markdown",
      "metadata": {},
      "source": [
        "## If you don't know the plane\n\n\n"
      ]
    },
    {
      "cell_type": "code",
      "execution_count": null,
      "metadata": {
        "collapsed": false
      },
      "outputs": [],
      "source": [
        "fig = plt.figure()\nax = fig.add_subplot(111, projection=\"3d\")\n\nax3d = ax.scatter(x, y, z, c=vel[0, :, :, :])\n\n# Setting axis labels\nax.set_xlabel(\"x (m)\")\nax.set_ylabel(\"y (m)\")\nax.set_zlabel(\"z (m)\")\ncbar = plt.colorbar(ax3d)\ncbar.set_label(\"Ux (m/s)\")"
      ]
    }
  ],
  "metadata": {
    "kernelspec": {
      "display_name": "Python 3",
      "language": "python",
      "name": "python3"
    },
    "language_info": {
      "codemirror_mode": {
        "name": "ipython",
        "version": 3
      },
      "file_extension": ".py",
      "mimetype": "text/x-python",
      "name": "python",
      "nbconvert_exporter": "python",
      "pygments_lexer": "ipython3",
      "version": "3.7.4"
    }
  },
  "nbformat": 4,
  "nbformat_minor": 0
}