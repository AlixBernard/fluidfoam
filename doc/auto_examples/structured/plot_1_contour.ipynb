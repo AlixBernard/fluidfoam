{
  "cells": [
    {
      "cell_type": "code",
      "execution_count": null,
      "metadata": {
        "collapsed": false
      },
      "outputs": [],
      "source": [
        "%matplotlib inline"
      ]
    },
    {
      "cell_type": "markdown",
      "metadata": {},
      "source": [
        "\n# Contour from a slice in domain\n\nThis example reads and plots a contour of the first component of an OpenFoam\nvector field from a structured mesh\n"
      ]
    },
    {
      "cell_type": "markdown",
      "metadata": {},
      "source": [
        "## First reads the mesh and print the shape/size of the mesh\n\n<div class=\"alert alert-info\"><h4>Note</h4><p>It reads the mesh coordinates for a structured mesh (argument True)\n          and stores them in variables x, y and z</p></div>\n\n"
      ]
    },
    {
      "cell_type": "code",
      "execution_count": null,
      "metadata": {
        "collapsed": false
      },
      "outputs": [],
      "source": [
        "# import readmesh function from fluidfoam package\nfrom fluidfoam import readmesh\n\nsol = '../../output_samples/box/'\n\nx, y, z = readmesh(sol, structured=True)\n\nnx, ny, nz = x.shape\nprint(\"Nx = \", nx, \"Ny = \", ny, \"Nz = \", nz)"
      ]
    },
    {
      "cell_type": "markdown",
      "metadata": {},
      "source": [
        "## Reads a vector field\n\n<div class=\"alert alert-info\"><h4>Note</h4><p>It reads a vector field from a structured mesh\n          and stores it in vel variable</p></div>\n\n"
      ]
    },
    {
      "cell_type": "code",
      "execution_count": null,
      "metadata": {
        "collapsed": false
      },
      "outputs": [],
      "source": [
        "# import readvector function from fluidfoam package\nfrom fluidfoam import readvector\n\ntimename = '0'\nvel = readvector(sol, timename, 'U', structured=True)"
      ]
    },
    {
      "cell_type": "markdown",
      "metadata": {},
      "source": [
        "## Now plots the contour of the first velocity component at a given z position\n\n<div class=\"alert alert-info\"><h4>Note</h4><p>Here the position z is the middle (// is used to have an integer)</p></div>\n\n"
      ]
    },
    {
      "cell_type": "code",
      "execution_count": null,
      "metadata": {
        "collapsed": false
      },
      "outputs": [],
      "source": [
        "import matplotlib.pyplot as plt\nimport numpy as np\n\nplt.figure()\nlevels = np.arange(0, 0.178, 0.001)\nplt.contourf(x[:, :, nz//2], y[:, :, nz//2], vel[0, :, :, nz//2],\n             levels=levels)\n\n# Setting axis labels\nplt.xlabel('x (m)')\nplt.ylabel('y (m)')"
      ]
    },
    {
      "cell_type": "markdown",
      "metadata": {},
      "source": [
        "## Now add on the same plot the velocity vectors\n\n\n"
      ]
    },
    {
      "cell_type": "code",
      "execution_count": null,
      "metadata": {
        "collapsed": false
      },
      "outputs": [],
      "source": [
        "plt.figure()\nplt.contourf(x[:, :, nz//2], y[:, :, nz//2], vel[0, :, :, nz//2],\n             levels=levels)\n\n# Setting axis labels\nplt.xlabel('x (m)')\nplt.ylabel('y (m)')\n\nplt.quiver(x[:, :, nz//2], y[:, :, nz//2],\n           vel[0, :, :, nz//2], vel[1, :, :, nz//2])"
      ]
    }
  ],
  "metadata": {
    "kernelspec": {
      "display_name": "Python 3",
      "language": "python",
      "name": "python3"
    },
    "language_info": {
      "codemirror_mode": {
        "name": "ipython",
        "version": 3
      },
      "file_extension": ".py",
      "mimetype": "text/x-python",
      "name": "python",
      "nbconvert_exporter": "python",
      "pygments_lexer": "ipython3",
      "version": "3.7.4"
    }
  },
  "nbformat": 4,
  "nbformat_minor": 0
}