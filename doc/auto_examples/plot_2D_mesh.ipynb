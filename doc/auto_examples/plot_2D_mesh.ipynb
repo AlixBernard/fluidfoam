{
  "cells": [
    {
      "cell_type": "code",
      "execution_count": null,
      "metadata": {
        "collapsed": false
      },
      "outputs": [],
      "source": [
        "%matplotlib inline"
      ]
    },
    {
      "cell_type": "markdown",
      "metadata": {},
      "source": [
        "\n# MeshVisu to create vectoriel image of the mesh\n\nThis example shows how to use MeshVisu object to plot vectorised images\nof 2D mesh contained in xy-plane.\n"
      ]
    },
    {
      "cell_type": "markdown",
      "metadata": {},
      "source": [
        "## First create a visualisable mesh object with MeshVisu\n\n<div class=\"alert alert-info\"><h4>Note</h4><p>This class allows you to create a list of edge contained inside\n          a box. This list of edges will then be ploted.</p></div>\n\n\n"
      ]
    },
    {
      "cell_type": "code",
      "execution_count": null,
      "metadata": {
        "collapsed": false
      },
      "outputs": [],
      "source": [
        "# import the class MeshVisu\nfrom fluidfoam import MeshVisu\n\n# path to the simulation to load\npath = '../fluidfoam/output_samples/pipeline/'\n\n# Load mesh and create an object called myMesh\n# The box by default is egal to the mesh dimension\nmyMesh = MeshVisu( path = '../output_samples/pipeline/')"
      ]
    },
    {
      "cell_type": "markdown",
      "metadata": {},
      "source": [
        "## Now plot the the whole mesh\n\n\n"
      ]
    },
    {
      "cell_type": "code",
      "execution_count": null,
      "metadata": {
        "collapsed": false
      },
      "outputs": [],
      "source": [
        "import matplotlib.pyplot as plt\nfrom  matplotlib.collections import LineCollection\nimport matplotlib.patches as patches\n\nfig, ax = plt.subplots( figsize = (8,8))\n# create a collection with edges and print it\nln_coll = LineCollection(myMesh.get_all_edgesInBox(), linewidths = 0.25, colors = 'brown')\nax.add_collection(ln_coll, autolim=True)\n\n# Set box dimensions as the figures's limits\nax.set_xlim(myMesh.get_xlim())\nax.set_ylim(myMesh.get_ylim())\n\n# to avoid distorting the mesh:\nax.set_aspect('equal')\n\n# to don't print axis:\nax.axis('off')\n\n# to save the figure in path (example path = './my_mesh.pdf')\n#plt.savefig(path, dpi=fig.dpi, transparent = True, bbox_inches = 'tight')\n#plt.show()\n#plt.close()"
      ]
    },
    {
      "cell_type": "markdown",
      "metadata": {},
      "source": [
        "## Now update the box the zoom on the cylinder\n\n"
      ]
    },
    {
      "cell_type": "code",
      "execution_count": null,
      "metadata": {
        "collapsed": false
      },
      "outputs": [],
      "source": [
        "myMesh.update_box(((0, 0, -1), (0.05, 0.05, 1)))\n                    \nfig, ax = plt.subplots( figsize = (8,8))\n# create a collection with edges and print it\nln_coll = LineCollection(myMesh.get_all_edgesInBox(), linewidths = 0.25, colors = 'black')\nax.add_collection(ln_coll, autolim=True)\n#ax.plot([0,1,2,3], [0,10,5,15])\nax.set_xlim(myMesh.get_xlim())\nax.set_ylim(myMesh.get_ylim())\nax.set_aspect('equal')\nax.axis('off')\n#plt.savefig(\"./ma_figure.pdf\", dpi=fig.dpi, transparent = True, bbox_inches = 'tight')\n#plt.show()\n#plt.close()"
      ]
    }
  ],
  "metadata": {
    "kernelspec": {
      "display_name": "Python 3",
      "language": "python",
      "name": "python3"
    },
    "language_info": {
      "codemirror_mode": {
        "name": "ipython",
        "version": 3
      },
      "file_extension": ".py",
      "mimetype": "text/x-python",
      "name": "python",
      "nbconvert_exporter": "python",
      "pygments_lexer": "ipython3",
      "version": "3.7.4"
    }
  },
  "nbformat": 4,
  "nbformat_minor": 0
}