{
  "cells": [
    {
      "cell_type": "code",
      "execution_count": null,
      "metadata": {
        "collapsed": false
      },
      "outputs": [],
      "source": [
        "%matplotlib inline"
      ]
    },
    {
      "cell_type": "markdown",
      "metadata": {},
      "source": [
        "\n# OpenFoamSimu to post-process simulation\n\nThis example shows how to organize the results of a simulation into an\nOpenFoamSimu object that contains all the results of one simulation.\n"
      ]
    },
    {
      "cell_type": "markdown",
      "metadata": {},
      "source": [
        "## First create a simulation object with OpenFoamSimu\n\n<div class=\"alert alert-info\"><h4>Note</h4><p>This class allows you to create an object associated to a\n          simulation</p></div>\n\n\n"
      ]
    },
    {
      "cell_type": "code",
      "execution_count": null,
      "metadata": {
        "collapsed": false
      },
      "outputs": [],
      "source": [
        "# import the class OpenFoamSimu\nfrom fluidfoam import OpenFoamSimu\n\n#path were all simulations are located\npath = '../../output_samples'\n#Name of the simulation to load, if not given, the program lists all simulations\n#located in path and ask you to choose which one to load\nsimu = 'box'\n#time step to load, if not given, load last time step\ntimeStep = '4'\n\n#Load simulation and create an object called mySimu that contain the results of\n#the simulation, structured=True indicates that the mesh is structured\nmySimu = OpenFoamSimu(path=path, simu=simu, timeStep=timeStep, structured=True)\n# .. note:: Each file saved at timeStep of the simulation  are\n#           automatically loaded as variables of object mySimu.\n#           You can know what variables have been loaded using function keys() of\n#           the class\n\nmySimu.keys()\n\n# .. note:: function keys() indicates that variables named U, nut and p have\n#           been loaded. You can access them simply by typing for example mySimu.U\n#           for the velocity field\n\nmySimu.U"
      ]
    },
    {
      "cell_type": "markdown",
      "metadata": {},
      "source": [
        "## Averaging along x and z axis (1 and 3)\n\n\n"
      ]
    },
    {
      "cell_type": "code",
      "execution_count": null,
      "metadata": {
        "collapsed": false
      },
      "outputs": [],
      "source": [
        "import numpy as np\n\nmySimu.vel_averaged = np.mean(np.mean(mySimu.U, 3), 1)"
      ]
    },
    {
      "cell_type": "markdown",
      "metadata": {},
      "source": [
        "## Now plot the profile of the averaged first velocity component\n\n\n"
      ]
    },
    {
      "cell_type": "code",
      "execution_count": null,
      "metadata": {
        "collapsed": false
      },
      "outputs": [],
      "source": [
        "import matplotlib.pyplot as plt\n\nplt.figure()\nplt.plot(mySimu.vel_averaged[0], mySimu.y[0, :, 0])\n\n#Setting axis labels\nplt.xlabel('U (m/s)')\nplt.ylabel('y (m)')\n\n# add grid\nplt.grid()\n\n# show figure\nplt.show()"
      ]
    }
  ],
  "metadata": {
    "kernelspec": {
      "display_name": "Python 3",
      "language": "python",
      "name": "python3"
    },
    "language_info": {
      "codemirror_mode": {
        "name": "ipython",
        "version": 3
      },
      "file_extension": ".py",
      "mimetype": "text/x-python",
      "name": "python",
      "nbconvert_exporter": "python",
      "pygments_lexer": "ipython3",
      "version": "3.7.4"
    }
  },
  "nbformat": 4,
  "nbformat_minor": 0
}