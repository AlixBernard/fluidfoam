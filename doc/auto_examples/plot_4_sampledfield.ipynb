{
  "cells": [
    {
      "cell_type": "code",
      "execution_count": null,
      "metadata": {
        "collapsed": false
      },
      "outputs": [],
      "source": [
        "%matplotlib inline"
      ]
    },
    {
      "cell_type": "markdown",
      "metadata": {},
      "source": [
        "\n# output field of files without header (sampling)\n\nThis example doesn't do much, it just reads and makes a simple plot of OpenFoam\nfield in case of files without header (as for example the output of sampling\nlibrary)\n"
      ]
    },
    {
      "cell_type": "markdown",
      "metadata": {},
      "source": [
        "## Read a scalar sampled field and the associated mesh\n\n<div class=\"alert alert-info\"><h4>Note</h4><p>It reads a scalar sampled field and the associated mesh</p></div>\n\n"
      ]
    },
    {
      "cell_type": "code",
      "execution_count": null,
      "metadata": {
        "collapsed": false
      },
      "outputs": [],
      "source": [
        "# import readscalar, readvector function from fluidfoam package\nfrom fluidfoam import readscalar, readvector\n\nsol = '../output_samples/ascii/wohead'\n\nX, Y, Z = readvector(sol, 'faceCentres')\npressure = readscalar(sol, 'p')"
      ]
    },
    {
      "cell_type": "markdown",
      "metadata": {},
      "source": [
        "## Now plot this scalar field\nIn this example it is the pressure coefficient around an airfoil.\nIt can be useful to sort the data in order to plot a line and not stars\n\n"
      ]
    },
    {
      "cell_type": "code",
      "execution_count": null,
      "metadata": {
        "collapsed": false
      },
      "outputs": [],
      "source": [
        "import matplotlib.pyplot as plt\nplt.figure()\nplt.plot(X, pressure, '*')\nplt.grid()\nplt.show()"
      ]
    }
  ],
  "metadata": {
    "kernelspec": {
      "display_name": "Python 3",
      "language": "python",
      "name": "python3"
    },
    "language_info": {
      "codemirror_mode": {
        "name": "ipython",
        "version": 3
      },
      "file_extension": ".py",
      "mimetype": "text/x-python",
      "name": "python",
      "nbconvert_exporter": "python",
      "pygments_lexer": "ipython3",
      "version": "3.7.4"
    }
  },
  "nbformat": 4,
  "nbformat_minor": 0
}