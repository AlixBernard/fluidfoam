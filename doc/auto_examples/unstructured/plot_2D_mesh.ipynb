{
  "cells": [
    {
      "cell_type": "code",
      "execution_count": null,
      "metadata": {
        "collapsed": false
      },
      "outputs": [],
      "source": [
        "%matplotlib inline"
      ]
    },
    {
      "cell_type": "markdown",
      "metadata": {},
      "source": [
        "\n# Create vectorised visualisations of the mesh\n\nThis example shows how to use MeshVisu object to plot vectorised images\nof 2D planar meshes.\n"
      ]
    },
    {
      "cell_type": "markdown",
      "metadata": {},
      "source": [
        "## First create a visualisable mesh object with MeshVisu\n\n<div class=\"alert alert-info\"><h4>Note</h4><p>This class allows you to create a list of edges contained inside\n          a box. This list of edges will then be ploted.</p></div>\n\n\n"
      ]
    },
    {
      "cell_type": "code",
      "execution_count": null,
      "metadata": {
        "collapsed": false
      },
      "outputs": [],
      "source": [
        "# import the class MeshVisu\nfrom fluidfoam import MeshVisu\n\n# path to the simulation to load\npath = '../../output_samples/pipeline'\n\n# Load mesh and create an object called myMesh\n# The box by default is egal to the mesh dimension\nmyMesh = MeshVisu( path =  '../../output_samples/pipeline')"
      ]
    },
    {
      "cell_type": "markdown",
      "metadata": {},
      "source": [
        "## Plot the whole mesh\n\n\n"
      ]
    },
    {
      "cell_type": "code",
      "execution_count": null,
      "metadata": {
        "collapsed": false
      },
      "outputs": [],
      "source": [
        "import matplotlib.pyplot as plt\nfrom  matplotlib.collections import LineCollection\nimport matplotlib.patches as patches\n\nfig, ax = plt.subplots( figsize = (8,8))\n# create a collection with edges and print it\nln_coll = LineCollection(myMesh.get_all_edgesInBox(), linewidths = 0.25, colors = 'brown')\nax.add_collection(ln_coll, autolim=True)\n\n# impose the dimensions of the box as the limits of the figure\nax.set_xlim(myMesh.get_xlim())\nax.set_ylim(myMesh.get_ylim())\n\n# to avoid distorting the mesh:\nax.set_aspect('equal')\n\n# to don't print axis:\nax.axis('off')\n\n# to save the figure in path (example path = './my_mesh.pdf')\n# plt.savefig(path, dpi=fig.dpi, transparent = True, bbox_inches = 'tight')"
      ]
    },
    {
      "cell_type": "markdown",
      "metadata": {},
      "source": [
        "## Update the box to zoom on the cylinder\n\n"
      ]
    },
    {
      "cell_type": "code",
      "execution_count": null,
      "metadata": {
        "collapsed": false
      },
      "outputs": [],
      "source": [
        "myMesh.update_box(((0, 0, -1), (0.05, 0.05, 1)))\n                    \nfig, ax = plt.subplots( figsize = (8,8))\n# create a collection with edges and print it\nln_coll = LineCollection(myMesh.get_all_edgesInBox(), linewidths = 0.25, colors = 'black')\nax.add_collection(ln_coll, autolim=True)\n\n# Set box dimensions as the figures's limits\nax.set_xlim(myMesh.get_xlim())\nax.set_ylim(myMesh.get_ylim())\n\n# to avoid distorting the mesh:\nax.set_aspect('equal')\n\n# to don't print axis:\nax.axis('off')\n\n# to save the figure in path (example path = './my_mesh.pdf')\n#plt.savefig(path, dpi=fig.dpi, transparent = True, bbox_inches = 'tight')"
      ]
    },
    {
      "cell_type": "markdown",
      "metadata": {},
      "source": [
        "## Visualisation of dynamic case in xz plane\n\n"
      ]
    },
    {
      "cell_type": "code",
      "execution_count": null,
      "metadata": {
        "collapsed": false
      },
      "outputs": [],
      "source": [
        "# path to the simulation to load:\nmypath =  '../../output_samples/darrieus'\n\n# time folder for which you want to display the mesh:\nmytime =  '0.1'\n\n# plane in which the mesh is contained, either:\n# 'xy': the xy-plane of outgoing normal z (default value)\n# 'xz': the xz-plane of outgoing normal -y\n# 'yz': the yz-plane of outgoing normal x\nmyplane =  'xz'\n\n# box to zoom in on for mesh display:\nmybox = ((-1.2, -1, -1.2), (1.2, 1, 1.2))\n\n# Load mesh and create an object called myOtherMesh:\nmyOtherMesh = MeshVisu(path = mypath, box = mybox, time_name = mytime, plane = myplane)\n\n# The next line sets the thumbnail for the last figure in the gallery\n# sphinx_gallery_thumbnail_number = -1\nfig, ax = plt.subplots( figsize = (8,8))\n# create a collection with edges and print it\nln_coll = LineCollection(myOtherMesh.get_all_edgesInBox(), linewidths = 0.25, colors = 'black')\nax.add_collection(ln_coll, autolim=True)\n\n# Set box dimensions as the figures's limits\nax.set_xlim(myOtherMesh.get_xlim())\nax.set_ylim(myOtherMesh.get_zlim())\n\n# to avoid distorting the mesh:\nax.set_aspect('equal')\n\n# to don't print axis:\nax.axis('off')"
      ]
    }
  ],
  "metadata": {
    "kernelspec": {
      "display_name": "Python 3",
      "language": "python",
      "name": "python3"
    },
    "language_info": {
      "codemirror_mode": {
        "name": "ipython",
        "version": 3
      },
      "file_extension": ".py",
      "mimetype": "text/x-python",
      "name": "python",
      "nbconvert_exporter": "python",
      "pygments_lexer": "ipython3",
      "version": "3.7.4"
    }
  },
  "nbformat": 4,
  "nbformat_minor": 0
}