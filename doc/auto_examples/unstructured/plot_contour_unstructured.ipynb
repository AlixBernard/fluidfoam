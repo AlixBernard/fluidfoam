{
  "cells": [
    {
      "cell_type": "code",
      "execution_count": null,
      "metadata": {
        "collapsed": false
      },
      "outputs": [],
      "source": [
        "%matplotlib inline"
      ]
    },
    {
      "cell_type": "markdown",
      "metadata": {},
      "source": [
        "\n# Contour and streamlines from an unstructured mesh\n\nThis example reads and plots a contour of an OpenFoam vector field from an\nunstructured mesh by interpolation on a structured grid\n"
      ]
    },
    {
      "cell_type": "markdown",
      "metadata": {},
      "source": [
        "## Reads the mesh\n\n<div class=\"alert alert-info\"><h4>Note</h4><p>It reads the mesh coordinates and stores them in variables x, y\n          and z</p></div>\n\n"
      ]
    },
    {
      "cell_type": "code",
      "execution_count": null,
      "metadata": {
        "collapsed": false
      },
      "outputs": [],
      "source": [
        "# import readmesh function from fluidfoam package\nfrom fluidfoam import readmesh\n\nsol = '../../output_samples/pipeline/'\n\nx, y, z = readmesh(sol)"
      ]
    },
    {
      "cell_type": "markdown",
      "metadata": {},
      "source": [
        "## Reads vector and scalar field\n\n<div class=\"alert alert-info\"><h4>Note</h4><p>It reads vector and scalar field from an unstructured mesh\n          and stores them in vel and alpha variables</p></div>\n\n"
      ]
    },
    {
      "cell_type": "code",
      "execution_count": null,
      "metadata": {
        "collapsed": false
      },
      "outputs": [],
      "source": [
        "# import readvector and readscalar functions from fluidfoam package\nfrom fluidfoam import readvector, readscalar\n\ntimename = '25'\nvel = readvector(sol, timename, 'Ub')\nalpha = readscalar(sol, timename, 'alpha')"
      ]
    },
    {
      "cell_type": "markdown",
      "metadata": {},
      "source": [
        "## Interpolate the fields on a structured grid\n\n<div class=\"alert alert-info\"><h4>Note</h4><p>The vector and scalar fields are interpolated on a specified\n          structured grid</p></div>\n\n"
      ]
    },
    {
      "cell_type": "code",
      "execution_count": null,
      "metadata": {
        "collapsed": false
      },
      "outputs": [],
      "source": [
        "import numpy as np\nfrom scipy.interpolate import griddata\n\n# Number of division for linear interpolation\nngridx = 500\nngridy = 180\n\n# Interpolation grid dimensions\nxinterpmin = -0.1\nxinterpmax = 0.35\nyinterpmin = -0.075\nyinterpmax = 0.075\n\n# Interpolation grid\nxi = np.linspace(xinterpmin, xinterpmax, ngridx)\nyi = np.linspace(yinterpmin, yinterpmax, ngridy)\n\n# Structured grid creation\nxinterp, yinterp = np.meshgrid(xi, yi)\n\n# Interpolation of scalra fields and vector field components\nalpha_i = griddata((x, y), alpha, (xinterp, yinterp), method='linear')\nvelx_i = griddata((x, y), vel[0, :], (xinterp, yinterp), method='linear')\nvely_i = griddata((x, y), vel[1, :], (xinterp, yinterp), method='linear')"
      ]
    },
    {
      "cell_type": "markdown",
      "metadata": {},
      "source": [
        "## Plots the contour of the interpolted scalarfield alpha, streamlines and a patch\n\n<div class=\"alert alert-info\"><h4>Note</h4><p>The scalar field alpha reprensents the concentration of sediment in\n          in a 2D two-phase flow simulation of erosion below a pipeline</p></div>\n\n"
      ]
    },
    {
      "cell_type": "code",
      "execution_count": null,
      "metadata": {
        "collapsed": false
      },
      "outputs": [],
      "source": [
        "import matplotlib.pyplot as plt\n\n# Define plot parameters\nfig = plt.figure(figsize=(8.5, 3), dpi=100)\nplt.rcParams.update({'font.size': 10})\nplt.xlabel('x/D')\nplt.ylabel('y/D')\nd = 0.05\n\n# Add a cuircular patch representing the pipeline\ncircle = plt.Circle((0, 0), radius=0.5, fc='silver', zorder=10,\n                    edgecolor='k')\nplt.gca().add_patch(circle)\n\n# Plots the contour of sediment concentration\nlevels = np.arange(0.1, 0.63, 0.001)\nplt.contourf(xi/d, yi/d, alpha_i, cmap=plt.cm.Reds, levels=levels)\n\n# Calculation of the streamline width as a function of the velociy magnitude\nvel_i = np.sqrt(velx_i**2 + vely_i**2)\nlw = pow(vel_i, 1.5)/vel_i.max()\n\n# Plots the streamlines\nplt.streamplot(xi/d, yi/d, velx_i, vely_i, color='C0', density=[2, 1],\n               linewidth=lw, arrowsize=0.05)"
      ]
    }
  ],
  "metadata": {
    "kernelspec": {
      "display_name": "Python 3",
      "language": "python",
      "name": "python3"
    },
    "language_info": {
      "codemirror_mode": {
        "name": "ipython",
        "version": 3
      },
      "file_extension": ".py",
      "mimetype": "text/x-python",
      "name": "python",
      "nbconvert_exporter": "python",
      "pygments_lexer": "ipython3",
      "version": "3.7.4"
    }
  },
  "nbformat": 4,
  "nbformat_minor": 0
}