{
  "cells": [
    {
      "cell_type": "code",
      "execution_count": null,
      "metadata": {
        "collapsed": false
      },
      "outputs": [],
      "source": [
        "%matplotlib inline"
      ]
    },
    {
      "cell_type": "markdown",
      "metadata": {},
      "source": [
        "\n# Contour from an unstructured mesh (no interpolation)\n\nThis example reads and plots a contour of an OpenFoam vector field from an\nunstructured mesh by triangulation WITHOUT interpolation on a structured grid\n"
      ]
    },
    {
      "cell_type": "markdown",
      "metadata": {},
      "source": [
        "## Reads the mesh\n\n<div class=\"alert alert-info\"><h4>Note</h4><p>It reads the mesh coordinates and stores them in variables x, y\n          and z</p></div>\n\n"
      ]
    },
    {
      "cell_type": "code",
      "execution_count": null,
      "metadata": {
        "collapsed": false
      },
      "outputs": [],
      "source": [
        "# import readmesh function from fluidfoam package\nfrom fluidfoam import readmesh\n\nsol = '../../output_samples/pipeline/'\n\nx, y, z = readmesh(sol)"
      ]
    },
    {
      "cell_type": "markdown",
      "metadata": {},
      "source": [
        "## Reads vector and scalar field\n\n<div class=\"alert alert-info\"><h4>Note</h4><p>It reads volume scalar field from an unstructured mesh\n          and stores it</p></div>\n\n"
      ]
    },
    {
      "cell_type": "code",
      "execution_count": null,
      "metadata": {
        "collapsed": false
      },
      "outputs": [],
      "source": [
        "# import readvector and readscalar functions from fluidfoam package\nfrom fluidfoam import readvector, readscalar\n\ntimename = '25'\nvel = readvector(sol, timename, 'Ub')\nalpha = readscalar(sol, timename, 'alpha')"
      ]
    },
    {
      "cell_type": "markdown",
      "metadata": {},
      "source": [
        "## Plots the contour of the volscalarfield alpha and a patch\n\n<div class=\"alert alert-info\"><h4>Note</h4><p>The scalar field alpha reprensents the concentration of sediment in\n          in a 2D two-phase flow simulation of erosion below a pipeline</p></div>\n\n"
      ]
    },
    {
      "cell_type": "code",
      "execution_count": null,
      "metadata": {
        "collapsed": false
      },
      "outputs": [],
      "source": [
        "import numpy as np\nimport matplotlib.pyplot as plt\n\n# Define plot parameters\nfig, ax = plt.subplots(figsize=(8.5, 3), dpi=100)\nplt.rcParams.update({'font.size': 10})\nplt.xlabel('x/D')\nplt.ylabel('y/D')\nd = 0.05\n# Add a cuircular patch representing the pipeline\ncircle = plt.Circle((0, 0), radius=0.5, fc='silver', zorder=10,\n                    edgecolor='k')\nplt.gca().add_patch(circle)\n\n# Plots the contour of sediment concentration\nlevels = np.arange(0.0, 0.63, 0.001)\n\nplt.tricontourf(x/d, y/d, alpha, cmap=plt.cm.Reds, levels=levels)\n\nax.set(xlim=(-2, 7), ylim=(-1.5, 1.5))\nplt.show()"
      ]
    }
  ],
  "metadata": {
    "kernelspec": {
      "display_name": "Python 3",
      "language": "python",
      "name": "python3"
    },
    "language_info": {
      "codemirror_mode": {
        "name": "ipython",
        "version": 3
      },
      "file_extension": ".py",
      "mimetype": "text/x-python",
      "name": "python",
      "nbconvert_exporter": "python",
      "pygments_lexer": "ipython3",
      "version": "3.7.4"
    }
  },
  "nbformat": 4,
  "nbformat_minor": 0
}