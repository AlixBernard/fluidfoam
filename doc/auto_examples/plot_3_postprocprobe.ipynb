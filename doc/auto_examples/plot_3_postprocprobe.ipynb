{
  "cells": [
    {
      "cell_type": "code",
      "execution_count": null,
      "metadata": {
        "collapsed": false
      },
      "outputs": [],
      "source": [
        "%matplotlib inline"
      ]
    },
    {
      "cell_type": "markdown",
      "metadata": {},
      "source": [
        "\n# Time series of postProcessing probe\n\nThis example reads and plots a series of postProcessing probe\n"
      ]
    },
    {
      "cell_type": "markdown",
      "metadata": {},
      "source": [
        "## Read the postProcessing files\n\n<div class=\"alert alert-info\"><h4>Note</h4><p>In this example it reads and merges two postProcessing files\n          automatically (with the 'mergeTime' option)</p></div>\n\n"
      ]
    },
    {
      "cell_type": "code",
      "execution_count": null,
      "metadata": {
        "collapsed": false
      },
      "outputs": [],
      "source": [
        "# import readprobes function from fluidfoam package\nfrom fluidfoam.readpostpro import readprobes\n\nsol = '../output_samples/ascii/'\n\n# import readprobes function from fluidfoam package\ntimeU, u = readprobes(sol, time_name = 'mergeTime', name = 'U')\ntimeP, p = readprobes(sol, time_name = 'mergeTime', name = 'p')"
      ]
    },
    {
      "cell_type": "markdown",
      "metadata": {},
      "source": [
        "## Now plots the pressure and y velocity for the first probe\n\n\n"
      ]
    },
    {
      "cell_type": "code",
      "execution_count": null,
      "metadata": {
        "collapsed": false
      },
      "outputs": [],
      "source": [
        "import matplotlib.pyplot as plt\n\nplt.figure()\n\nplt.plot(timeU, u[:, 0, 1])\nplt.plot(timeP, p[:, 0])\n\n# Setting axis labels\nplt.xlabel('t (s)')\n\n# add grid and legend\nplt.grid()\nplt.legend([\"Uy\", \"p\"])\n\n# show\nplt.show()"
      ]
    }
  ],
  "metadata": {
    "kernelspec": {
      "display_name": "Python 3",
      "language": "python",
      "name": "python3"
    },
    "language_info": {
      "codemirror_mode": {
        "name": "ipython",
        "version": 3
      },
      "file_extension": ".py",
      "mimetype": "text/x-python",
      "name": "python",
      "nbconvert_exporter": "python",
      "pygments_lexer": "ipython3",
      "version": "3.7.4"
    }
  },
  "nbformat": 4,
  "nbformat_minor": 0
}